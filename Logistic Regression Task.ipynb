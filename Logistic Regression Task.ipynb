{
 "cells": [
  {
   "cell_type": "markdown",
   "id": "ae82faa5-2d7e-407d-b1e0-14e2ebeb9e9c",
   "metadata": {},
   "source": [
    "## Logistic Regression Task\n",
    "\n",
    "## Problem Statement - Data consisitest of information about passenger travelling in the Titanic Ship which met an accident. Predict if the the passagers survived the accedent from the avaiable data.\n",
    "\n",
    "as**"
   ]
  },
  {
   "cell_type": "code",
   "execution_count": 33,
   "id": "367e84ea-0576-4d29-a8a7-96bf118b3a52",
   "metadata": {},
   "outputs": [],
   "source": [
    "import pandas"
   ]
  },
  {
   "cell_type": "markdown",
   "id": "443eb7e3-0e0c-4246-a209-5480564155a6",
   "metadata": {},
   "source": [
    "**Data acquired from Kaggle as CSV file.**\n",
    "\n",
    "**Data import from local drive using Pandas**"
   ]
  },
  {
   "cell_type": "code",
   "execution_count": 3,
   "id": "276ae99e-e9ce-45ee-bd6b-1abef4286975",
   "metadata": {},
   "outputs": [],
   "source": [
    "df_train = pd.read_csv('../ex/titanic dataset/train.csv')"
   ]
  },
  {
   "cell_type": "markdown",
   "id": "9c0cfe89-c783-4008-9316-6e9764d05de0",
   "metadata": {},
   "source": [
    "## information check \n",
    "\n",
    "**No. of columns** = 12\n",
    "\n",
    "**No. of Rows**  = 891\n",
    "\n",
    "**Data types** = 'object','int','float'\n",
    "\n",
    "**Missing data** = True\n",
    "\n",
    "**Dependent variable** = 'Survived'"
   ]
  },
  {
   "cell_type": "code",
   "execution_count": 4,
   "id": "226af7ee-3390-4cf6-91bd-e20b9023cd58",
   "metadata": {},
   "outputs": [
    {
     "name": "stdout",
     "output_type": "stream",
     "text": [
      "<class 'pandas.core.frame.DataFrame'>\n",
      "RangeIndex: 891 entries, 0 to 890\n",
      "Data columns (total 12 columns):\n",
      " #   Column       Non-Null Count  Dtype  \n",
      "---  ------       --------------  -----  \n",
      " 0   PassengerId  891 non-null    int64  \n",
      " 1   Survived     891 non-null    int64  \n",
      " 2   Pclass       891 non-null    int64  \n",
      " 3   Name         891 non-null    object \n",
      " 4   Sex          891 non-null    object \n",
      " 5   Age          714 non-null    float64\n",
      " 6   SibSp        891 non-null    int64  \n",
      " 7   Parch        891 non-null    int64  \n",
      " 8   Ticket       891 non-null    object \n",
      " 9   Fare         891 non-null    float64\n",
      " 10  Cabin        204 non-null    object \n",
      " 11  Embarked     889 non-null    object \n",
      "dtypes: float64(2), int64(5), object(5)\n",
      "memory usage: 83.7+ KB\n"
     ]
    }
   ],
   "source": [
    "df_train.info()"
   ]
  },
  {
   "cell_type": "markdown",
   "id": "2cbfae3c-05d0-4f4c-8489-17e48ffde574",
   "metadata": {},
   "source": [
    "## List of Columns classified into categorical and numerical data columns"
   ]
  },
  {
   "cell_type": "code",
   "execution_count": 5,
   "id": "521d5f97-cc3e-4782-ac9f-ae01cdae93ab",
   "metadata": {},
   "outputs": [],
   "source": [
    "column_cat = ['PassengerId','Pclass', 'Name', 'Sex', 'Age', 'Cabin', 'Embarked']\n",
    "column_num = ['SibSp','Parch','Fare']"
   ]
  },
  {
   "cell_type": "markdown",
   "id": "a82c05f2-1cc5-408a-aaea-a6ea230a699d",
   "metadata": {},
   "source": [
    "## Null value check"
   ]
  },
  {
   "cell_type": "code",
   "execution_count": 6,
   "id": "92b5bcc0-e2da-4f0f-b1eb-bc02cccfa9a6",
   "metadata": {},
   "outputs": [
    {
     "data": {
      "text/plain": [
       "PassengerId      0\n",
       "Survived         0\n",
       "Pclass           0\n",
       "Name             0\n",
       "Sex              0\n",
       "Age            177\n",
       "SibSp            0\n",
       "Parch            0\n",
       "Ticket           0\n",
       "Fare             0\n",
       "Cabin          687\n",
       "Embarked         2\n",
       "dtype: int64"
      ]
     },
     "execution_count": 6,
     "metadata": {},
     "output_type": "execute_result"
    }
   ],
   "source": [
    "df_train.isnull().sum()"
   ]
  },
  {
   "cell_type": "markdown",
   "id": "883b3ec2-ed58-4a32-ada0-b0409c127790",
   "metadata": {},
   "source": [
    "## Imputer Implimentation\n",
    "\n",
    "**Elemenating Null values from data set by using Mode strategy for catagorical data and Median satrategy for numerical data**"
   ]
  },
  {
   "cell_type": "code",
   "execution_count": 7,
   "id": "e85e3bb1-fd5a-4568-8537-a772b6a9aa41",
   "metadata": {},
   "outputs": [],
   "source": [
    "from sklearn.impute import SimpleImputer \n",
    "impute_cat = SimpleImputer(strategy='most_frequent') \n",
    "impute_cat.fit(df_train[column_cat]) \n",
    "df_train[column_cat] = impute_cat.transform(df_train[column_cat])"
   ]
  },
  {
   "cell_type": "code",
   "execution_count": 8,
   "id": "b626b3f1-59b4-49ba-aa05-87b922259019",
   "metadata": {},
   "outputs": [],
   "source": [
    "impute_num = SimpleImputer(strategy='median') \n",
    "impute_num.fit(df_train[column_num]) \n",
    "df_train[column_num] = impute_num.transform(df_train[column_num])"
   ]
  },
  {
   "cell_type": "markdown",
   "id": "04e5f9bf-652d-4422-a3e9-30640fa4b107",
   "metadata": {},
   "source": [
    "## Binning \n",
    "\n",
    "**Data of age column was divided to 3 parts to understand the group that Survived the most.**"
   ]
  },
  {
   "cell_type": "code",
   "execution_count": 9,
   "id": "f989920a-8b03-4af8-bcd8-4b9029ee3b62",
   "metadata": {},
   "outputs": [
    {
     "data": {
      "text/plain": [
       "0      Child\n",
       "1      Adult\n",
       "2      Child\n",
       "3      Adult\n",
       "4      Adult\n",
       "       ...  \n",
       "886    Adult\n",
       "887    Child\n",
       "888    Child\n",
       "889    Child\n",
       "890    Adult\n",
       "Name: new_age, Length: 891, dtype: category\n",
       "Categories (3, object): ['Child' < 'Adult' < 'Old']"
      ]
     },
     "execution_count": 9,
     "metadata": {},
     "output_type": "execute_result"
    }
   ],
   "source": [
    "df_train['new_age'] = pd.cut(df_train['Age'],3,labels=['Child','Adult','Old'])\n",
    "df_train['new_age']"
   ]
  },
  {
   "cell_type": "markdown",
   "id": "fec583bb-c183-4229-aebb-265a73a94f71",
   "metadata": {},
   "source": [
    "## Null Value check in the the data set"
   ]
  },
  {
   "cell_type": "code",
   "execution_count": 10,
   "id": "bb0cf348-db09-490f-9f77-d3144cc0dd2f",
   "metadata": {},
   "outputs": [
    {
     "data": {
      "text/plain": [
       "PassengerId    0\n",
       "Survived       0\n",
       "Pclass         0\n",
       "Name           0\n",
       "Sex            0\n",
       "Age            0\n",
       "SibSp          0\n",
       "Parch          0\n",
       "Ticket         0\n",
       "Fare           0\n",
       "Cabin          0\n",
       "Embarked       0\n",
       "new_age        0\n",
       "dtype: int64"
      ]
     },
     "execution_count": 10,
     "metadata": {},
     "output_type": "execute_result"
    }
   ],
   "source": [
    "df_train.isnull().sum()"
   ]
  },
  {
   "cell_type": "markdown",
   "id": "e8f23752-2e18-44a6-ab0d-2760f71415c4",
   "metadata": {},
   "source": [
    "## New Catagorial colums list is formed after inital pre-processing to initiate Encoding of the catagorical data."
   ]
  },
  {
   "cell_type": "code",
   "execution_count": 11,
   "id": "dc027128-6e8f-421e-8d58-dde140cad5d1",
   "metadata": {},
   "outputs": [],
   "source": [
    "New_column_cat = ['PassengerId','Pclass', 'Name', 'Sex', 'new_age', 'Cabin', 'Embarked']"
   ]
  },
  {
   "cell_type": "markdown",
   "id": "14575234-54bd-48a1-87e7-4144b166925a",
   "metadata": {},
   "source": [
    "## OneHotEncoding\n",
    "\n",
    "**One Hot Encoding, Feature Engineering perfomred on catagorical data of the coloums.**"
   ]
  },
  {
   "cell_type": "code",
   "execution_count": 14,
   "id": "f2f0f66a-f3a0-4c46-b68a-ef9e49c1c290",
   "metadata": {},
   "outputs": [],
   "source": [
    "from sklearn.preprocessing import OneHotEncoder\n",
    "encoder = OneHotEncoder(sparse_output = False, handle_unknown = 'ignore')\n",
    "encoder.fit(df_train[New_column_cat])\n",
    "column_enc = list(encoder.get_feature_names_out())\n",
    "df_train[column_enc] = encoder.transform(df_train[New_column_cat])"
   ]
  },
  {
   "cell_type": "markdown",
   "id": "dee9b5b0-f8de-4e82-b6d3-94bdf02c6e75",
   "metadata": {},
   "source": [
    "## Feature Scaling\n",
    "\n",
    "**MinMaxScaling, Feature Engineering performed Numerical data of the colouns**"
   ]
  },
  {
   "cell_type": "code",
   "execution_count": 15,
   "id": "88a1fe29-7078-434b-8659-e57f467529da",
   "metadata": {},
   "outputs": [],
   "source": [
    "from sklearn.preprocessing import MinMaxScaler\n",
    "Scaler = MinMaxScaler()\n",
    "Scaler.fit(df_train[column_num])\n",
    "df_train[column_num] = Scaler.transform(df_train[column_num])"
   ]
  },
  {
   "cell_type": "markdown",
   "id": "9a536485-35e0-4d1d-b955-f6d2df94f258",
   "metadata": {},
   "source": [
    "## Final list of columns created"
   ]
  },
  {
   "cell_type": "code",
   "execution_count": 16,
   "id": "bc53695e-2d83-40ce-ad01-e5d3b187659d",
   "metadata": {},
   "outputs": [],
   "source": [
    "final_column = column_num + column_enc\n",
    "X = df_train[final_column]\n",
    "y = df_train['Survived']"
   ]
  },
  {
   "cell_type": "markdown",
   "id": "2bf3fe6d-cbe3-4b51-936e-c4f495e7c6bf",
   "metadata": {},
   "source": [
    "## Logistic Regression Model Fitting"
   ]
  },
  {
   "cell_type": "code",
   "execution_count": 17,
   "id": "1bb90b5f-e16f-4172-bd4b-92133f72942f",
   "metadata": {},
   "outputs": [
    {
     "data": {
      "text/html": [
       "<style>#sk-container-id-1 {color: black;}#sk-container-id-1 pre{padding: 0;}#sk-container-id-1 div.sk-toggleable {background-color: white;}#sk-container-id-1 label.sk-toggleable__label {cursor: pointer;display: block;width: 100%;margin-bottom: 0;padding: 0.3em;box-sizing: border-box;text-align: center;}#sk-container-id-1 label.sk-toggleable__label-arrow:before {content: \"▸\";float: left;margin-right: 0.25em;color: #696969;}#sk-container-id-1 label.sk-toggleable__label-arrow:hover:before {color: black;}#sk-container-id-1 div.sk-estimator:hover label.sk-toggleable__label-arrow:before {color: black;}#sk-container-id-1 div.sk-toggleable__content {max-height: 0;max-width: 0;overflow: hidden;text-align: left;background-color: #f0f8ff;}#sk-container-id-1 div.sk-toggleable__content pre {margin: 0.2em;color: black;border-radius: 0.25em;background-color: #f0f8ff;}#sk-container-id-1 input.sk-toggleable__control:checked~div.sk-toggleable__content {max-height: 200px;max-width: 100%;overflow: auto;}#sk-container-id-1 input.sk-toggleable__control:checked~label.sk-toggleable__label-arrow:before {content: \"▾\";}#sk-container-id-1 div.sk-estimator input.sk-toggleable__control:checked~label.sk-toggleable__label {background-color: #d4ebff;}#sk-container-id-1 div.sk-label input.sk-toggleable__control:checked~label.sk-toggleable__label {background-color: #d4ebff;}#sk-container-id-1 input.sk-hidden--visually {border: 0;clip: rect(1px 1px 1px 1px);clip: rect(1px, 1px, 1px, 1px);height: 1px;margin: -1px;overflow: hidden;padding: 0;position: absolute;width: 1px;}#sk-container-id-1 div.sk-estimator {font-family: monospace;background-color: #f0f8ff;border: 1px dotted black;border-radius: 0.25em;box-sizing: border-box;margin-bottom: 0.5em;}#sk-container-id-1 div.sk-estimator:hover {background-color: #d4ebff;}#sk-container-id-1 div.sk-parallel-item::after {content: \"\";width: 100%;border-bottom: 1px solid gray;flex-grow: 1;}#sk-container-id-1 div.sk-label:hover label.sk-toggleable__label {background-color: #d4ebff;}#sk-container-id-1 div.sk-serial::before {content: \"\";position: absolute;border-left: 1px solid gray;box-sizing: border-box;top: 0;bottom: 0;left: 50%;z-index: 0;}#sk-container-id-1 div.sk-serial {display: flex;flex-direction: column;align-items: center;background-color: white;padding-right: 0.2em;padding-left: 0.2em;position: relative;}#sk-container-id-1 div.sk-item {position: relative;z-index: 1;}#sk-container-id-1 div.sk-parallel {display: flex;align-items: stretch;justify-content: center;background-color: white;position: relative;}#sk-container-id-1 div.sk-item::before, #sk-container-id-1 div.sk-parallel-item::before {content: \"\";position: absolute;border-left: 1px solid gray;box-sizing: border-box;top: 0;bottom: 0;left: 50%;z-index: -1;}#sk-container-id-1 div.sk-parallel-item {display: flex;flex-direction: column;z-index: 1;position: relative;background-color: white;}#sk-container-id-1 div.sk-parallel-item:first-child::after {align-self: flex-end;width: 50%;}#sk-container-id-1 div.sk-parallel-item:last-child::after {align-self: flex-start;width: 50%;}#sk-container-id-1 div.sk-parallel-item:only-child::after {width: 0;}#sk-container-id-1 div.sk-dashed-wrapped {border: 1px dashed gray;margin: 0 0.4em 0.5em 0.4em;box-sizing: border-box;padding-bottom: 0.4em;background-color: white;}#sk-container-id-1 div.sk-label label {font-family: monospace;font-weight: bold;display: inline-block;line-height: 1.2em;}#sk-container-id-1 div.sk-label-container {text-align: center;}#sk-container-id-1 div.sk-container {/* jupyter's `normalize.less` sets `[hidden] { display: none; }` but bootstrap.min.css set `[hidden] { display: none !important; }` so we also need the `!important` here to be able to override the default hidden behavior on the sphinx rendered scikit-learn.org. See: https://github.com/scikit-learn/scikit-learn/issues/21755 */display: inline-block !important;position: relative;}#sk-container-id-1 div.sk-text-repr-fallback {display: none;}</style><div id=\"sk-container-id-1\" class=\"sk-top-container\"><div class=\"sk-text-repr-fallback\"><pre>LogisticRegression()</pre><b>In a Jupyter environment, please rerun this cell to show the HTML representation or trust the notebook. <br />On GitHub, the HTML representation is unable to render, please try loading this page with nbviewer.org.</b></div><div class=\"sk-container\" hidden><div class=\"sk-item\"><div class=\"sk-estimator sk-toggleable\"><input class=\"sk-toggleable__control sk-hidden--visually\" id=\"sk-estimator-id-1\" type=\"checkbox\" checked><label for=\"sk-estimator-id-1\" class=\"sk-toggleable__label sk-toggleable__label-arrow\">LogisticRegression</label><div class=\"sk-toggleable__content\"><pre>LogisticRegression()</pre></div></div></div></div></div>"
      ],
      "text/plain": [
       "LogisticRegression()"
      ]
     },
     "execution_count": 17,
     "metadata": {},
     "output_type": "execute_result"
    }
   ],
   "source": [
    "from sklearn.linear_model import LogisticRegression\n",
    "\n",
    "model = LogisticRegression()\n",
    "model.fit(X,y)"
   ]
  },
  {
   "cell_type": "markdown",
   "id": "91c85652-f6e1-4966-ae13-2263a5a085ef",
   "metadata": {},
   "source": [
    "## Import Test Data"
   ]
  },
  {
   "cell_type": "code",
   "execution_count": 18,
   "id": "169f0832-6cb8-4192-a360-fdb984e36c83",
   "metadata": {},
   "outputs": [],
   "source": [
    "df_test = pd.read_csv('../ex/titanic dataset/test.csv')"
   ]
  },
  {
   "cell_type": "markdown",
   "id": "9b94636d-3fa0-4ebf-8025-4d9db108a456",
   "metadata": {},
   "source": [
    "## Information check on test data"
   ]
  },
  {
   "cell_type": "code",
   "execution_count": 19,
   "id": "91b578b3-b7f1-4536-b8b3-88e9776cbbfb",
   "metadata": {},
   "outputs": [
    {
     "name": "stdout",
     "output_type": "stream",
     "text": [
      "<class 'pandas.core.frame.DataFrame'>\n",
      "RangeIndex: 418 entries, 0 to 417\n",
      "Data columns (total 11 columns):\n",
      " #   Column       Non-Null Count  Dtype  \n",
      "---  ------       --------------  -----  \n",
      " 0   PassengerId  418 non-null    int64  \n",
      " 1   Pclass       418 non-null    int64  \n",
      " 2   Name         418 non-null    object \n",
      " 3   Sex          418 non-null    object \n",
      " 4   Age          332 non-null    float64\n",
      " 5   SibSp        418 non-null    int64  \n",
      " 6   Parch        418 non-null    int64  \n",
      " 7   Ticket       418 non-null    object \n",
      " 8   Fare         417 non-null    float64\n",
      " 9   Cabin        91 non-null     object \n",
      " 10  Embarked     418 non-null    object \n",
      "dtypes: float64(2), int64(4), object(5)\n",
      "memory usage: 36.1+ KB\n"
     ]
    }
   ],
   "source": [
    "df_test.info()"
   ]
  },
  {
   "cell_type": "markdown",
   "id": "272f43c6-215d-4246-8416-a9c15bb21791",
   "metadata": {},
   "source": [
    "## Null Value check in Test data Set"
   ]
  },
  {
   "cell_type": "code",
   "execution_count": 20,
   "id": "430da1c5-c664-4c2e-a6c8-193fb2a5bb4c",
   "metadata": {},
   "outputs": [
    {
     "data": {
      "text/plain": [
       "PassengerId      0\n",
       "Pclass           0\n",
       "Name             0\n",
       "Sex              0\n",
       "Age             86\n",
       "SibSp            0\n",
       "Parch            0\n",
       "Ticket           0\n",
       "Fare             1\n",
       "Cabin          327\n",
       "Embarked         0\n",
       "dtype: int64"
      ]
     },
     "execution_count": 20,
     "metadata": {},
     "output_type": "execute_result"
    }
   ],
   "source": [
    "df_test.isnull().sum()"
   ]
  },
  {
   "cell_type": "markdown",
   "id": "70900e86-25ee-4046-858b-d8b1a36d7f20",
   "metadata": {},
   "source": [
    "## Test data pre-processing"
   ]
  },
  {
   "cell_type": "code",
   "execution_count": 22,
   "id": "568d694a-9b5f-40b1-a82b-bb7ae95ab62b",
   "metadata": {},
   "outputs": [],
   "source": [
    "df_test['new_age'] = pd.cut(df_train['Age'],3,labels=['Child','Adult','Old'])\n",
    "df_test[column_cat] = impute_cat.transform(df_test[column_cat])\n",
    "df_test[column_num] = impute_num.transform(df_test[column_num])\n",
    "df_test[column_num] = Scaler.transform(df_test[column_num])\n",
    "df_test[column_enc] = encoder.transform(df_test[New_column_cat])"
   ]
  },
  {
   "cell_type": "markdown",
   "id": "65a6af1f-7ae2-4c59-9d10-fc66bfb98372",
   "metadata": {},
   "source": [
    "## Null value check of dataset after per-processing"
   ]
  },
  {
   "cell_type": "code",
   "execution_count": 24,
   "id": "6c709136-bcf1-45e3-9760-d77f16075f98",
   "metadata": {},
   "outputs": [
    {
     "data": {
      "text/plain": [
       "PassengerId    0\n",
       "Survived       0\n",
       "Pclass         0\n",
       "Name           0\n",
       "Sex            0\n",
       "              ..\n",
       "Cabin_G6       0\n",
       "Cabin_T        0\n",
       "Embarked_C     0\n",
       "Embarked_Q     0\n",
       "Embarked_S     0\n",
       "Length: 1953, dtype: int64"
      ]
     },
     "execution_count": 24,
     "metadata": {},
     "output_type": "execute_result"
    }
   ],
   "source": [
    "df_train.isnull().sum()"
   ]
  },
  {
   "cell_type": "markdown",
   "id": "29238660-cbfd-4d43-82f5-cd7b36eb7ce6",
   "metadata": {},
   "source": [
    "## Model Score on train data"
   ]
  },
  {
   "cell_type": "code",
   "execution_count": 25,
   "id": "252437d8-6aee-4d12-83ea-5c2faeff0cae",
   "metadata": {},
   "outputs": [
    {
     "data": {
      "text/plain": [
       "0.9191919191919192"
      ]
     },
     "execution_count": 25,
     "metadata": {},
     "output_type": "execute_result"
    }
   ],
   "source": [
    "model.score(X,y)"
   ]
  },
  {
   "cell_type": "markdown",
   "id": "0627c2e3-2293-4039-9a9f-ef9904013a22",
   "metadata": {},
   "source": [
    "## Model Prediction"
   ]
  },
  {
   "cell_type": "code",
   "execution_count": 30,
   "id": "6d6ed949-4b5a-4f98-89e9-456681724ffb",
   "metadata": {},
   "outputs": [
    {
     "name": "stdout",
     "output_type": "stream",
     "text": [
      "[0 1 0 0 1 0 0 0 1 0 0 0 1 0 1 1 0 0 1 1 0 0 1 0 1 0 1 0 0 0 0 0 1 0 1 0 1\n",
      " 1 0 0 0 0 0 1 1 0 1 0 1 1 0 0 1 1 0 0 0 0 0 1 0 0 0 1 1 1 1 0 1 1 1 0 1 1\n",
      " 1 1 0 1 0 1 0 0 0 0 0 0 1 1 1 0 1 0 1 0 0 0 1 0 1 0 1 0 0 0 1 0 0 0 0 0 0\n",
      " 1 1 1 1 0 0 1 1 1 1 0 1 0 0 1 0 1 0 0 0 1 1 0 0 0 0 0 1 0 1 1 1 0 0 0 0 0\n",
      " 0 0 1 0 0 1 0 0 1 1 0 1 1 0 1 0 0 1 1 0 1 1 0 0 0 0 0 1 1 1 1 1 0 1 1 0 1\n",
      " 0 1 0 1 0 0 0 0 0 0 0 1 1 0 1 1 0 1 1 0 0 1 0 1 0 0 0 0 1 1 0 1 0 1 0 1 0\n",
      " 1 0 1 1 0 1 0 0 0 1 0 0 1 0 1 0 1 1 1 1 1 0 0 0 1 0 1 0 1 0 0 0 0 0 0 0 1\n",
      " 0 0 0 1 1 0 0 0 0 0 0 1 0 1 1 0 1 0 0 0 0 0 0 1 1 1 0 0 0 0 0 0 1 0 1 0 0\n",
      " 1 0 0 0 0 1 0 0 1 1 0 0 0 1 0 0 0 1 1 1 1 0 0 0 0 0 0 0 1 0 1 0 0 0 1 1 0\n",
      " 1 0 1 0 0 0 0 0 0 0 1 0 1 0 1 0 1 1 0 0 0 1 0 1 0 0 1 0 1 1 0 1 1 0 1 1 0\n",
      " 0 1 0 0 1 1 1 0 0 0 0 0 1 1 0 1 0 0 0 0 0 1 0 0 0 1 0 1 0 0 1 0 1 0 1 1 0\n",
      " 1 1 1 1 1 1 0 1 0 0 0]\n"
     ]
    }
   ],
   "source": [
    "X_test= df_test[final_column]\n",
    "yp = model.predict(X_test)\n",
    "print(yp)"
   ]
  },
  {
   "cell_type": "markdown",
   "id": "75f741e6-437f-460c-a750-3368440b276f",
   "metadata": {},
   "source": [
    "## Create Data Frame of the predicted output"
   ]
  },
  {
   "cell_type": "code",
   "execution_count": 35,
   "id": "ca931176-1674-4ab7-84ad-7b0f0de640f1",
   "metadata": {},
   "outputs": [],
   "source": [
    "predicted_data = pd.DataFrame({'passenger ID':df_test['PassengerId'],'Name':df_test['Name'],'Survived':yp})"
   ]
  },
  {
   "cell_type": "code",
   "execution_count": 36,
   "id": "2a69f054-e0bb-4871-bbfd-62ec6a884184",
   "metadata": {},
   "outputs": [
    {
     "data": {
      "text/html": [
       "<div>\n",
       "<style scoped>\n",
       "    .dataframe tbody tr th:only-of-type {\n",
       "        vertical-align: middle;\n",
       "    }\n",
       "\n",
       "    .dataframe tbody tr th {\n",
       "        vertical-align: top;\n",
       "    }\n",
       "\n",
       "    .dataframe thead th {\n",
       "        text-align: right;\n",
       "    }\n",
       "</style>\n",
       "<table border=\"1\" class=\"dataframe\">\n",
       "  <thead>\n",
       "    <tr style=\"text-align: right;\">\n",
       "      <th></th>\n",
       "      <th>passenger ID</th>\n",
       "      <th>Name</th>\n",
       "      <th>Survived</th>\n",
       "    </tr>\n",
       "  </thead>\n",
       "  <tbody>\n",
       "    <tr>\n",
       "      <th>0</th>\n",
       "      <td>892</td>\n",
       "      <td>Kelly, Mr. James</td>\n",
       "      <td>0</td>\n",
       "    </tr>\n",
       "    <tr>\n",
       "      <th>1</th>\n",
       "      <td>893</td>\n",
       "      <td>Wilkes, Mrs. James (Ellen Needs)</td>\n",
       "      <td>1</td>\n",
       "    </tr>\n",
       "    <tr>\n",
       "      <th>2</th>\n",
       "      <td>894</td>\n",
       "      <td>Myles, Mr. Thomas Francis</td>\n",
       "      <td>0</td>\n",
       "    </tr>\n",
       "    <tr>\n",
       "      <th>3</th>\n",
       "      <td>895</td>\n",
       "      <td>Wirz, Mr. Albert</td>\n",
       "      <td>0</td>\n",
       "    </tr>\n",
       "    <tr>\n",
       "      <th>4</th>\n",
       "      <td>896</td>\n",
       "      <td>Hirvonen, Mrs. Alexander (Helga E Lindqvist)</td>\n",
       "      <td>1</td>\n",
       "    </tr>\n",
       "    <tr>\n",
       "      <th>...</th>\n",
       "      <td>...</td>\n",
       "      <td>...</td>\n",
       "      <td>...</td>\n",
       "    </tr>\n",
       "    <tr>\n",
       "      <th>413</th>\n",
       "      <td>1305</td>\n",
       "      <td>Spector, Mr. Woolf</td>\n",
       "      <td>0</td>\n",
       "    </tr>\n",
       "    <tr>\n",
       "      <th>414</th>\n",
       "      <td>1306</td>\n",
       "      <td>Oliva y Ocana, Dona. Fermina</td>\n",
       "      <td>1</td>\n",
       "    </tr>\n",
       "    <tr>\n",
       "      <th>415</th>\n",
       "      <td>1307</td>\n",
       "      <td>Saether, Mr. Simon Sivertsen</td>\n",
       "      <td>0</td>\n",
       "    </tr>\n",
       "    <tr>\n",
       "      <th>416</th>\n",
       "      <td>1308</td>\n",
       "      <td>Ware, Mr. Frederick</td>\n",
       "      <td>0</td>\n",
       "    </tr>\n",
       "    <tr>\n",
       "      <th>417</th>\n",
       "      <td>1309</td>\n",
       "      <td>Peter, Master. Michael J</td>\n",
       "      <td>0</td>\n",
       "    </tr>\n",
       "  </tbody>\n",
       "</table>\n",
       "<p>418 rows × 3 columns</p>\n",
       "</div>"
      ],
      "text/plain": [
       "    passenger ID                                          Name  Survived\n",
       "0            892                              Kelly, Mr. James         0\n",
       "1            893              Wilkes, Mrs. James (Ellen Needs)         1\n",
       "2            894                     Myles, Mr. Thomas Francis         0\n",
       "3            895                              Wirz, Mr. Albert         0\n",
       "4            896  Hirvonen, Mrs. Alexander (Helga E Lindqvist)         1\n",
       "..           ...                                           ...       ...\n",
       "413         1305                            Spector, Mr. Woolf         0\n",
       "414         1306                  Oliva y Ocana, Dona. Fermina         1\n",
       "415         1307                  Saether, Mr. Simon Sivertsen         0\n",
       "416         1308                           Ware, Mr. Frederick         0\n",
       "417         1309                      Peter, Master. Michael J         0\n",
       "\n",
       "[418 rows x 3 columns]"
      ]
     },
     "execution_count": 36,
     "metadata": {},
     "output_type": "execute_result"
    }
   ],
   "source": [
    "predicted_data"
   ]
  },
  {
   "cell_type": "code",
   "execution_count": null,
   "id": "27f7a9b7-b863-4d9d-8a42-1437c79311f1",
   "metadata": {},
   "outputs": [],
   "source": []
  }
 ],
 "metadata": {
  "kernelspec": {
   "display_name": "Python [conda env:tf_01]",
   "language": "python",
   "name": "conda-env-tf_01-py"
  },
  "language_info": {
   "codemirror_mode": {
    "name": "ipython",
    "version": 3
   },
   "file_extension": ".py",
   "mimetype": "text/x-python",
   "name": "python",
   "nbconvert_exporter": "python",
   "pygments_lexer": "ipython3",
   "version": "3.11.7"
  },
  "widgets": {
   "application/vnd.jupyter.widget-state+json": {
    "state": {},
    "version_major": 2,
    "version_minor": 0
   }
  }
 },
 "nbformat": 4,
 "nbformat_minor": 5
}
